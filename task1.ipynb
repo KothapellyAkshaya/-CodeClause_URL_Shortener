{
 "cells": [
  {
   "cell_type": "code",
   "execution_count": 50,
   "metadata": {
    "scrolled": true
   },
   "outputs": [
    {
     "name": "stdout",
     "output_type": "stream",
     "text": [
      "Requirement already satisfied: pyshorteners in c:\\users\\91984\\anaconda3\\lib\\site-packages (1.0.1)\n",
      "Requirement already satisfied: requests in c:\\users\\91984\\anaconda3\\lib\\site-packages (from pyshorteners) (2.24.0)\n",
      "Requirement already satisfied: certifi>=2017.4.17 in c:\\users\\91984\\anaconda3\\lib\\site-packages (from requests->pyshorteners) (2020.6.20)\n",
      "Note: you may need to restart the kernel to use updated packages.Requirement already satisfied: chardet<4,>=3.0.2 in c:\\users\\91984\\anaconda3\\lib\\site-packages (from requests->pyshorteners) (3.0.4)\n",
      "Requirement already satisfied: urllib3!=1.25.0,!=1.25.1,<1.26,>=1.21.1 in c:\\users\\91984\\anaconda3\\lib\\site-packages (from requests->pyshorteners) (1.25.11)\n",
      "Requirement already satisfied: idna<3,>=2.5 in c:\\users\\91984\\anaconda3\\lib\\site-packages (from requests->pyshorteners) (2.10)\n",
      "\n"
     ]
    }
   ],
   "source": [
    "pip install pyshorteners"
   ]
  },
  {
   "cell_type": "code",
   "execution_count": 51,
   "metadata": {},
   "outputs": [],
   "source": [
    "import pyshorteners"
   ]
  },
  {
   "cell_type": "code",
   "execution_count": 52,
   "metadata": {
    "scrolled": true
   },
   "outputs": [
    {
     "name": "stdout",
     "output_type": "stream",
     "text": [
      "Enter the URL to shorten: https://www.example.com/articles/how-to-build-a-chatbot-using-python-and-gpt-3.5?utm_source=blog&utm_medium=social&utm_campaign=chatbot_tutorial&utm_content=article_link&utm_term=python_gpt_3.5_chatbot_tutorial&utm_id=1234567890\n"
     ]
    }
   ],
   "source": [
    "long_url = input(\"Enter the URL to shorten: \")"
   ]
  },
  {
   "cell_type": "code",
   "execution_count": 53,
   "metadata": {},
   "outputs": [],
   "source": [
    "type_tiny = pyshorteners.Shortener()"
   ]
  },
  {
   "cell_type": "code",
   "execution_count": 54,
   "metadata": {},
   "outputs": [
    {
     "name": "stdout",
     "output_type": "stream",
     "text": [
      "The Shortened URL is: https://tinyurl.com/2cd2kvq2\n"
     ]
    }
   ],
   "source": [
    "short_url = type_tiny.tinyurl.short(long_url)\n",
    " \n",
    "print(\"The Shortened URL is: \" + short_url)"
   ]
  },
  {
   "cell_type": "code",
   "execution_count": 56,
   "metadata": {},
   "outputs": [
    {
     "name": "stdout",
     "output_type": "stream",
     "text": [
      "Enter the URL to shorten: https://www.example.com/very/long/url/that/needs/to/be/shortened\n",
      "The Shortened URL is: https://tinyurl.com/2ps6gye8\n"
     ]
    }
   ],
   "source": [
    "import pyshorteners\n",
    "long_url = input(\"Enter the URL to shorten: \")\n",
    " \n",
    "#TinyURL shortener service\n",
    "type_tiny = pyshorteners.Shortener()\n",
    "short_url = type_tiny.tinyurl.short(long_url)\n",
    "print(\"The Shortened URL is: \" + short_url)"
   ]
  },
  {
   "cell_type": "code",
   "execution_count": null,
   "metadata": {},
   "outputs": [],
   "source": []
  },
  {
   "cell_type": "code",
   "execution_count": null,
   "metadata": {
    "scrolled": true
   },
   "outputs": [],
   "source": []
  },
  {
   "cell_type": "code",
   "execution_count": null,
   "metadata": {},
   "outputs": [],
   "source": []
  },
  {
   "cell_type": "code",
   "execution_count": null,
   "metadata": {},
   "outputs": [],
   "source": []
  },
  {
   "cell_type": "code",
   "execution_count": null,
   "metadata": {},
   "outputs": [],
   "source": []
  },
  {
   "cell_type": "code",
   "execution_count": null,
   "metadata": {},
   "outputs": [],
   "source": []
  },
  {
   "cell_type": "code",
   "execution_count": null,
   "metadata": {},
   "outputs": [],
   "source": []
  },
  {
   "cell_type": "code",
   "execution_count": null,
   "metadata": {},
   "outputs": [],
   "source": []
  }
 ],
 "metadata": {
  "kernelspec": {
   "display_name": "Python 3",
   "language": "python",
   "name": "python3"
  },
  "language_info": {
   "codemirror_mode": {
    "name": "ipython",
    "version": 3
   },
   "file_extension": ".py",
   "mimetype": "text/x-python",
   "name": "python",
   "nbconvert_exporter": "python",
   "pygments_lexer": "ipython3",
   "version": "3.8.5"
  }
 },
 "nbformat": 4,
 "nbformat_minor": 4
}
